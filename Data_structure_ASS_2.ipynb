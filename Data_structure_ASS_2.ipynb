{
  "nbformat": 4,
  "nbformat_minor": 0,
  "metadata": {
    "colab": {
      "provenance": []
    },
    "kernelspec": {
      "name": "python3",
      "display_name": "Python 3"
    },
    "language_info": {
      "name": "python"
    }
  },
  "cells": [
    {
      "cell_type": "markdown",
      "source": [
        "**     Data Types and Structures**\n",
        "\n",
        "1. What are data structures, and why are they important?\n",
        "- Data Structures are a way of organizing data so that it can be accessed more efficiently depending upon the situation.\n",
        "\n",
        "    Python has two types:\n",
        "\n",
        "1. Built-in Data Structures - Provided by Python directly.\n",
        "\n",
        "2. User-defined Data Structures - Created by you using classes/objects.\n",
        "\n",
        "Importance:-\n",
        "\n",
        "Efficiency: Choosing the right data structure can make your program run faster and use less memory.\n",
        "\n",
        "Code clarity: A well-chosen structure makes your code easier to understand.\n",
        "\n",
        "Problem solving: Many algorithms rely on specific data structures (e.g., queues in BFS, stacks in undo operations).\n",
        "\n",
        "Flexibility: They allow you to model real-world problems easily.\n",
        "\n",
        "2. Explain the difference between mutable and immutable data types with examples.\n",
        "\n",
        "- Mutable → Can be changed after creation.\n",
        "\n",
        "- Immutable → Cannot be changed after creation (any “change” creates a new object in memory).\n",
        "\n",
        "Mutable Data Types in Python\n",
        "\n",
        "These allow modification in place without changing their memory address.\n",
        "\n",
        "Examples:\n",
        "\n",
        "list\n",
        "\n",
        "dict\n",
        "\n",
        "set\n",
        "\n",
        "bytearray\n",
        "\n",
        "# Example with list (mutable)\n",
        "fruits = [\"apple\", \"banana\", \"cherry\"]\n",
        "print(id(fruits))  # Memory address before change\n",
        "\n",
        "fruits.append(\"mango\")  # Modify in place\n",
        "print(fruits)           # ['apple', 'banana', 'cherry', 'mango']\n",
        "print(id(fruits))       # Same memory address\n",
        "\n",
        "Immutable Data Types in Python\n",
        "\n",
        "Once created, their value cannot be changed — any update creates a new object.\n",
        "\n",
        "Examples:\n",
        "\n",
        "int\n",
        "\n",
        "float\n",
        "\n",
        "string (str)\n",
        "\n",
        "tuple\n",
        "\n",
        "frozenset\n",
        "\n",
        "bytes\n",
        "\n",
        "# Example with string (immutable)\n",
        "name = \"Taru\"\n",
        "print(id(name))  # Memory address before change\n",
        "\n",
        "name += \" Mishra\"  # Creates a new string object\n",
        "print(name)        # 'Taru Mishra'\n",
        "print(id(name))    # Different memory address\n",
        "\n",
        "3. What are the main differences between lists and tuples in Python?\n",
        "- 1. Mutability\n",
        "\n",
        "List → Mutable (can change elements, add, remove, etc.).\n",
        "\n",
        "Tuple → Immutable (cannot change after\n",
        "creation).\n",
        "\n",
        "2. Syntax\n",
        "\n",
        "List → Square brackets []\n",
        "\n",
        "Tuple → Parentheses ()\n",
        "\n",
        "3. Performance\n",
        "\n",
        "Tuple is faster than a list when iterating or accessing elements, because it's fixed in size and stored more efficiently.\n",
        "\n",
        "List is slower but more flexible.\n",
        "\n",
        "4. Methods\n",
        "\n",
        "List → Many built-in methods like .append(), .remove(), .sort()\n",
        "\n",
        "Tuple → Very few methods: .count() and .index() only.\n",
        "\n",
        "5. Use Cases\n",
        "\n",
        "List → Use when data may change (e.g., shopping cart items, dynamic data storage).\n",
        "\n",
        "Tuple → Use for fixed data that should not change (e.g., coordinates (x, y), days of the week).\n",
        "\n",
        "4. Describe how dictionaries store data.\n",
        "- A dictionary is an unordered collection of key–value pairs.\n",
        "\n",
        "- Each key must be unique and immutable (like strings, numbers, or tuples).\n",
        "\n",
        "- Values can be anything (mutable or immutable).\n",
        "\n",
        "Python dictionaries are implemented using a hash table.\n",
        "\n",
        "Step-by-step:\n",
        "\n",
        "1.Hashing the Key\n",
        "\n",
        "When you create a key-value pair, Python runs the key through a hash function to convert it into a fixed-size number (the hash value).\n",
        "\n",
        "Example:\n",
        "hash(\"name\")  # returns an integer (different each run)\n",
        "\n",
        "2.Finding a Slot\n",
        "\n",
        "This hash value is used to determine where in memory to store the key–value pair.\n",
        "\n",
        "3.Handling Collisions\n",
        "\n",
        "Sometimes different keys produce the same hash value (called a collision).\n",
        "\n",
        "Python handles this using open addressing: it finds the next available slot.\n",
        "\n",
        "4.Fast Lookup\n",
        "\n",
        "To retrieve a value, Python re-hashes the key, jumps directly to its slot in the hash table, and returns the value.\n",
        "\n",
        "This makes dictionary lookups average O(1) time complexity (super fast).\n",
        "\n",
        "5. Why might you use a set instead of a list in Python?\n",
        "-1. Uniqueness\n",
        "Sets automatically remove duplicates, whereas lists allow them.\n",
        "\n",
        "2. Faster Membership Tests\n",
        "\n",
        "Checking if an item exists in a set is O(1) on average (thanks to hashing).\n",
        "\n",
        "Lists take O(n) time since they check each element.\n",
        "\n",
        "3. Set Operations\n",
        "\n",
        "Sets have built-in mathematical operations: union, intersection, difference, symmetric difference.\n",
        "\n",
        "6.  What is a string in Python, and how is it different from a list?\n",
        "- A string in Python is a sequence of characters enclosed in quotes (' ' or \" \" or ''' ''').\n",
        "It's used to store text data like words, sentences, or even numbers as characters.\n",
        "\n",
        "Example: my_string = \"Hello World\"\n",
        "\n",
        "1. Key Properties of Strings\n",
        "\n",
        "Immutable → Once created, you can’t change individual characters.\n",
        "\n",
        "Indexed & iterable → You can access characters by position.\n",
        "\n",
        "Sequence type → Works with slicing, indexing, and iteration.\n",
        "\n",
        "7. How do tuples ensure data integrity in Python?\n",
        "-Tuples help ensure data integrity in Python mainly because they are immutable — once you create a tuple, you cannot change, add, or remove elements from it.\n",
        "\n",
        "1. Immutability = Protection from Changes\n",
        "\n",
        "With a list, someone can accidentally change your data.\n",
        "\n",
        "With a tuple, the data is locked in place after creation.\n",
        "This ensures that important data (like coordinates, configuration settings, or fixed reference values) stays exactly as it was intended.\n",
        "\n",
        "2. Safe for Use as Dictionary Keys or Set Elements\n",
        "\n",
        "Because tuples can't change, they're hashable (if all their elements are also immutable).\n",
        "This means they can be reliably used as keys in dictionaries, which lists cannot.\n",
        "\n",
        "3. Clear Intent for Developers\n",
        "\n",
        "When you store data in a tuple, you're signaling:\n",
        "\n",
        "“This data is fixed and should not be changed.”\n",
        "This prevents logical errors and makes your code more predictable.\n",
        "\n",
        "4. Example: Protecting Data Integrity\n",
        "# Using list (mutable)\n",
        "days_list = [\"Mon\", \"Tue\", \"Wed\"]\n",
        "days_list[0] = \"Sunday\"  # ❌ Changes original data\n",
        "\n",
        "# Using tuple (immutable)\n",
        "days_tuple = (\"Mon\", \"Tue\", \"Wed\")\n",
        "# days_tuple[0] = \"Sunday\"  # ❌ Can't change — integrity preserved\n",
        "\n",
        "8. What is a hash table, and how does it relate to dictionaries in Python?\n",
        "- A hash table is a data structure that stores key–value pairs and uses a hash function to decide where each pair should go in memory.\n",
        "It allows very fast lookups, insertions, and deletions — usually in constant time O(1) on average.\n",
        "\n",
        "1. How a Hash Table Works\n",
        "\n",
        "Hash the key\n",
        "\n",
        "Python takes your key and runs it through a hash function (hash()), producing an integer called the hash value.\n",
        "\n",
        "Find a slot in memory\n",
        "\n",
        "This hash value is mapped to a slot (index) in an underlying array (the hash table).\n",
        "\n",
        "Store the key-value pair\n",
        "\n",
        "The key and its value are stored in that slot.\n",
        "\n",
        "Handle collisions\n",
        "\n",
        "If two keys hash to the same slot, Python uses open addressing (finds the next available slot) or other strategies to store them.\n",
        "\n",
        "2. Relation to Python Dictionaries\n",
        "\n",
        "Python's dict is basically a hash table under the hood:\n",
        "\n",
        "Keys → must be hashable (immutable and have a __hash__() method).\n",
        "\n",
        "Values → can be any object.\n",
        "\n",
        "Operations (lookup, insert, delete) → use the hash table mechanism, making them extremely fast.\n",
        "\n",
        "3. Advantages of Hash Tables in Dictionaries\n",
        "\n",
        "Fast access → Average O(1) for lookups.\n",
        "\n",
        "Flexible → Values can be any type.\n",
        "\n",
        "Unique keys → No duplicate keys allowed.\n",
        "\n",
        "9.  Can lists contain different data types in Python?\n",
        "- Yes, lists in Python can contain different data types in the same list.\n",
        "\n",
        "That's because Python lists are dynamic and can store references to objects of any type — numbers, strings, booleans, other lists, even custom objects.\n",
        "\n",
        "10. Explain why strings are immutable in Python.\n",
        "- Strings in Python are immutable because once a string object is created, its contents cannot be changed. This design choice is intentional for several reasons: it improves **performance**, since immutable objects can be safely reused and cached without worrying about unexpected changes; it enhances **security**, as strings are often used for keys in dictionaries or as fixed identifiers where changes could cause bugs; and it ensures **thread-safety**, meaning multiple parts of a program can use the same string without interfering with each other. When you “modify” a string, Python actually creates a **new string object** in memory and assigns it to the variable, leaving the original unchanged. This immutability makes strings predictable, reliable, and efficient for operations like hashing, comparisons, and storage in data structures such as sets and dictionaries.\n",
        "\n",
        "11. What advantages do dictionaries offer over lists for certain tasks?\n",
        "- Dictionaries offer several advantages over lists for certain tasks because they store data as key-value pairs instead of just values at numeric positions.\n",
        "\n",
        "1. Faster Lookups\n",
        "\n",
        "Dictionary → Average O(1) lookup time (thanks to hash tables).\n",
        "\n",
        "List → O(n) lookup time because Python has to search element by element.\n",
        "\n",
        "2. More Descriptive Keys\n",
        "\n",
        "In dictionaries, you use meaningful keys instead of numeric indexes.\n",
        "\n",
        "This makes code clearer and self-explanatory.\n",
        "\n",
        "3. No Need to Remember Indexes\n",
        "\n",
        "You don't need to track positions — just use the key.\n",
        "\n",
        "This reduces mistakes when handling large datasets.\n",
        "\n",
        "4. Avoids Duplicate Keys\n",
        "\n",
        "Dictionaries automatically overwrite duplicate keys, keeping only the latest value.\n",
        "\n",
        "Lists allow duplicates, which may cause confusion in lookups.\n",
        "\n",
        "5. Built-in Methods for Key-Value Management\n",
        "\n",
        "Dictionaries have powerful methods like .get(), .keys(), .values(), .items() which make data handling easier.\n",
        "\n",
        "12. Describe a scenario where using a tuple would be preferable over a list?\n",
        "- A good scenario where using a tuple is preferable over a list is when you need to store fixed, unchangeable data — for example, geographical coordinates of a city.\n",
        "\n",
        "Example Scenario:\n",
        "\n",
        "Imagine you're building a mapping application that stores the latitude and longitude of different locations:\n",
        "# Using tuple for fixed coordinates\n",
        "city_coordinates = {\n",
        "    \"Delhi\": (28.6139, 77.2090),\n",
        "    \"New York\": (40.7128, -74.0060)\n",
        "}\n",
        "\n",
        "Tuple is ideal because:\n",
        "\n",
        "Data Integrity - Coordinates should never change accidentally; tuples protect against modifications.\n",
        "\n",
        "Hashability - Tuples can be used as dictionary keys (lists can't), making lookups fast.\n",
        "\n",
        "Performance - Tuples are slightly faster and use less memory than lists, which matters when storing thousands of locations.\n",
        "\n",
        "13.  How do sets handle duplicate values in Python?\n",
        "- In Python, sets automatically remove duplicate values because they are designed to store only unique elements.\n",
        "\n",
        "How It Works\n",
        "\n",
        "When you add an element to a set, Python calculates its hash value.\n",
        "\n",
        "If another element with the same hash (and equal value) already exists, Python ignores the new one instead of storing it again.\n",
        "\n",
        "14. How does the “in” keyword work differently for lists and dictionaries?\n",
        "- The in keyword works for both lists and dictionaries, but it checks different things in each case.\n",
        "\n",
        "1. In Lists → Checks for values\n",
        "\n",
        "When used with a list, in checks whether the value exists among the list’s elements.\n",
        "Works by scanning through the list element by element → O(n) time complexity.\n",
        "2. In Dictionaries → Checks for keys\n",
        "\n",
        "When used with a dictionary, in checks whether the given key exists in the dictionary — not the value.\n",
        "This is O(1) on average because dictionaries use a hash table for fast lookups.\n",
        "\n",
        "15. Can you modify the elements of a tuple? Explain why or why not.\n",
        "- No — you cannot modify the elements of a tuple in Python because tuples are immutable.\n",
        "\n",
        "Why You Can’t Modify Tuples\n",
        "\n",
        "Once a tuple is created, its structure and contents are fixed.\n",
        "\n",
        "Python stores tuples in a way that assumes their size and elements will never change, making them faster and more memory-efficient than mutable types.\n",
        "\n",
        "Any attempt to change an element directly will raise a TypeError.\n",
        "\n",
        "Special Case — Mutable Elements Inside a Tuple\n",
        "\n",
        "If a tuple contains a mutable object (like a list or dictionary), you can modify the contents of that mutable object — but not the tuple’s structure itself.\n",
        "\n",
        "16. What is a nested dictionary, and give an example of its use case?\n",
        "- A nested dictionary in Python is a dictionary inside another dictionary.\n",
        "It allows you to store data in a hierarchical or multi-level format, making it easier to represent complex relationships.\n",
        "\n",
        "Why Use a Nested Dictionary?\n",
        "\n",
        "Organizing related data together (like a mini-database).\n",
        "\n",
        "Representing hierarchical structures such as:\n",
        "\n",
        "JSON data from APIs\n",
        "\n",
        "Company employee hierarchy\n",
        "\n",
        "Game settings or configurations\n",
        "\n",
        "Multi-level category mapping\n",
        "\n",
        "Example – Student Database\n",
        "\n",
        "students = {\n",
        "    \"S101\": {\n",
        "        \"name\": \"Taru\",\n",
        "        \"age\": 26,\n",
        "        \"marks\": {\"math\": 90, \"science\": 88}\n",
        "    },\n",
        "    \"S102\": {\n",
        "        \"name\": \"Amit\",\n",
        "        \"age\": 25,\n",
        "        \"marks\": {\"math\": 85, \"science\": 92}\n",
        "    }\n",
        "}\n",
        "\n",
        "# Accessing data\n",
        "print(students[\"S101\"][\"name\"])       # Taru\n",
        "print(students[\"S101\"][\"marks\"][\"math\"])  # 90\n",
        "\n",
        "17. Describe the time complexity of accessing elements in a dictionary?\n",
        "- Accessing elements in a Python dictionary typically has a time complexity of O(1) — meaning it takes constant time, regardless of the dictionary’s size.\n",
        "\n",
        "Why O(1)?\n",
        "\n",
        "Python dictionaries are implemented using a hash table.\n",
        "\n",
        "When you look up a key, Python:\n",
        "\n",
        "Calculates the hash of the key.\n",
        "\n",
        "Uses that hash to directly jump to the location in memory where the value is stored.\n",
        "\n",
        "This avoids scanning the whole dictionary.\n",
        "\n",
        "Possible Exceptions\n",
        "\n",
        "While average-case lookup is O(1), in rare cases it can degrade to O(n):\n",
        "\n",
        "When hash collisions occur (different keys producing the same hash value).\n",
        "\n",
        "In such cases, Python stores colliding keys in a small linked list or other structure, and it must check them one by one.\n",
        "\n",
        "18.  In what situations are lists preferred over dictionaries?\n",
        "- Lists are preferred over dictionaries in Python when the order and position of elements matter or when you only need to store values without unique keys.\n",
        "\n",
        "Situations Where Lists Are Better\n",
        "1. When order matters\n",
        "\n",
        "Lists preserve the insertion order (in Python 3.7+, dictionaries do too, but lists are still simpler for sequential access).\n",
        "\n",
        "Example: storing a sequence of daily temperatures.\n",
        "\n",
        "2. When data is indexed by position\n",
        "\n",
        "Lists use integer indexes starting from 0, which is useful when you want to access items by their position.\n",
        "\n",
        "3. When duplicates are allowed\n",
        "\n",
        "Lists allow multiple identical values, while dictionary keys must be unique.\n",
        "\n",
        "4. When you only need values\n",
        "\n",
        "If you don’t need key-value pairs and only care about the values themselves, lists are more lightweight and straightforward.\n",
        "Example: storing a shopping list\n",
        "\n",
        "\n",
        "5. When order-based operations are needed\n",
        "\n",
        "Operations like sorting, reversing, slicing, or iterating in a fixed order are easier with lists.\n",
        "\n",
        "19.  Why are dictionaries considered unordered, and how does that affect data retrieval?\n",
        "- Dictionaries in Python are considered unordered (historically) because they store key-value pairs based on hash values, not on the order in which you insert them.\n",
        "\n",
        "Why They Were Unordered\n",
        "\n",
        "Internally, dictionaries use a hash table.\n",
        "\n",
        "Keys are placed into \"buckets\" determined by their hash values, which means their physical location in memory is not related to the order you add them.\n",
        "\n",
        "Before Python 3.7, there was no guarantee that iterating over a dictionary would return items in the same order they were inserted.\n",
        "\n",
        "20. Explain the difference between a list and a dictionary in terms of data retrieval.\n",
        "- The main difference between a list and a dictionary in terms of data retrieval comes down to how you access elements and the time it takes to find them.\n",
        "\n",
        "1. Access Method\n",
        "\n",
        "List → Access by index (position)\n",
        "Example:\n",
        "fruits = [\"apple\", \"banana\", \"cherry\"]\n",
        "print(fruits[1])  # \"banana\"\n",
        "\n",
        "You must know the position of the item.\n",
        "\n",
        "Indexes are integers starting from 0.\n",
        "\n",
        "Dictionary → Access by key (label)\n",
        "Example:\n",
        "person = {\"name\": \"Taru\", \"age\": 26}\n",
        "print(person[\"name\"])  # \"Taru\"\n",
        "\n",
        "You must know the unique key, not the position.\n",
        "\n",
        "\n"
      ],
      "metadata": {
        "id": "g2A-cUPmmNwr"
      }
    },
    {
      "cell_type": "code",
      "source": [
        "#1. Write a code to create a string with your name and print it.\n",
        "\n",
        "# Creating a string with my name\n",
        "name = \"Taru Mishra\"\n",
        "\n",
        "# Printing the string\n",
        "print(name)\n"
      ],
      "metadata": {
        "colab": {
          "base_uri": "https://localhost:8080/"
        },
        "id": "8qaSo4SgP_K8",
        "outputId": "fadad2cc-19bb-4cb3-980c-f3f99e76849d"
      },
      "execution_count": null,
      "outputs": [
        {
          "output_type": "stream",
          "name": "stdout",
          "text": [
            "Taru Mishra\n"
          ]
        }
      ]
    },
    {
      "cell_type": "code",
      "source": [
        "#2. Write a code to find the length of the string \"Hello World\".\n",
        "\n",
        "# Creating the string\n",
        "text = \"Hello World\"\n",
        "\n",
        "# Finding the length using len() function\n",
        "length = len(text)\n",
        "\n",
        "# Printing the result\n",
        "print(\"Length of the string:\", length)\n"
      ],
      "metadata": {
        "colab": {
          "base_uri": "https://localhost:8080/"
        },
        "id": "THvYJ4umQ8BR",
        "outputId": "c4b2c614-735a-421e-b817-376c38736fbb"
      },
      "execution_count": null,
      "outputs": [
        {
          "output_type": "stream",
          "name": "stdout",
          "text": [
            "Length of the string: 11\n"
          ]
        }
      ]
    },
    {
      "cell_type": "code",
      "source": [
        "'''3. Write a code to slice the first 3 characters from the string\n",
        " \"Python Programming\".'''\n",
        " # Creating the string\n",
        "text = \"Python Programming\"\n",
        "\n",
        "# Slicing the first 3 characters\n",
        "first_three = text[:3]\n",
        "\n",
        "# Printing the result\n",
        "print(first_three)\n"
      ],
      "metadata": {
        "colab": {
          "base_uri": "https://localhost:8080/"
        },
        "id": "yR_BQd9xRTgV",
        "outputId": "d8a807d7-6736-4611-dd8b-50feebf4500b"
      },
      "execution_count": null,
      "outputs": [
        {
          "output_type": "stream",
          "name": "stdout",
          "text": [
            "Pyt\n"
          ]
        }
      ]
    },
    {
      "cell_type": "code",
      "source": [
        "#4. Write a code to convert the string \"hello\" to uppercase.\n",
        "# Creating the string\n",
        "text = \"hello\"\n",
        "\n",
        "# Converting to uppercase\n",
        "upper_text = text.upper()\n",
        "\n",
        "# Printing the result\n",
        "print(upper_text)\n"
      ],
      "metadata": {
        "colab": {
          "base_uri": "https://localhost:8080/"
        },
        "id": "aG4n0tPmT2gE",
        "outputId": "3ec0c418-277c-4aa7-d52b-325cd3127c4e"
      },
      "execution_count": null,
      "outputs": [
        {
          "output_type": "stream",
          "name": "stdout",
          "text": [
            "HELLO\n"
          ]
        }
      ]
    },
    {
      "cell_type": "code",
      "source": [
        "'''5.Write a code to replace the word \"apple\" with \"orange\" in the string\n",
        "\"I like apple\"'''\n",
        "# Creating the string\n",
        "text = \"I like apple\"\n",
        "\n",
        "# Replacing apple with orange\n",
        "new_text = text.replace(\"apple\", \"orange\")\n",
        "\n",
        "# Printing the result\n",
        "print(new_text)\n"
      ],
      "metadata": {
        "id": "f05CLceWVJeb",
        "colab": {
          "base_uri": "https://localhost:8080/"
        },
        "outputId": "ce26bcca-4ad4-435d-bbc6-6dc05862e296"
      },
      "execution_count": null,
      "outputs": [
        {
          "output_type": "stream",
          "name": "stdout",
          "text": [
            "I like orange\n"
          ]
        }
      ]
    },
    {
      "cell_type": "code",
      "source": [
        "#6.Write a code to create a list with numbers 1 to 5 and print it,\n",
        "numbers = list(range(1, 6))\n",
        "print(numbers)\n"
      ],
      "metadata": {
        "colab": {
          "base_uri": "https://localhost:8080/"
        },
        "id": "YgPjnrEPXmFs",
        "outputId": "24ab0623-8a58-489f-db0d-331c51f2f2b3"
      },
      "execution_count": null,
      "outputs": [
        {
          "output_type": "stream",
          "name": "stdout",
          "text": [
            "[1, 2, 3, 4, 5]\n"
          ]
        }
      ]
    },
    {
      "cell_type": "code",
      "source": [
        "#7. Write a code to append the number 10 to the list [1, 2, 3, 4].\n",
        "# Creating the list\n",
        "numbers = [1, 2, 3, 4]\n",
        "\n",
        "# Appending 10 to the list\n",
        "numbers.append(10)\n",
        "\n",
        "# Printing the updated list\n",
        "print(numbers)\n"
      ],
      "metadata": {
        "colab": {
          "base_uri": "https://localhost:8080/"
        },
        "id": "eKinzb37X7o6",
        "outputId": "31c5d1e0-b4b4-43fc-8f0c-d038536f2b5e"
      },
      "execution_count": null,
      "outputs": [
        {
          "output_type": "stream",
          "name": "stdout",
          "text": [
            "[1, 2, 3, 4, 10]\n"
          ]
        }
      ]
    },
    {
      "cell_type": "code",
      "source": [
        "#8. Write a code to remove the number 3 from the list [1, 2, 3, 4, 5]\n",
        "# Creating the list\n",
        "numbers = [1, 2, 3, 4, 5]\n",
        "\n",
        "# Removing 3 from the list\n",
        "numbers.remove(3)\n",
        "\n",
        "# Printing the updated list\n",
        "print(numbers)\n"
      ],
      "metadata": {
        "colab": {
          "base_uri": "https://localhost:8080/"
        },
        "id": "XBo7PrG-YOzp",
        "outputId": "7bbf2bb9-a1fd-4ce1-9b41-3c9b03bd187d"
      },
      "execution_count": null,
      "outputs": [
        {
          "output_type": "stream",
          "name": "stdout",
          "text": [
            "[1, 2, 4, 5]\n"
          ]
        }
      ]
    },
    {
      "cell_type": "code",
      "source": [
        "#9.  Write a code to access the second element in the list ['a', 'b', 'c', 'd']\n",
        "\n",
        "# Creating the list\n",
        "letters = ['a', 'b', 'c', 'd']\n",
        "\n",
        "# Accessing the second element (index 1, since indexing starts from 0)\n",
        "second_element = letters[1]\n",
        "\n",
        "# Printing the result\n",
        "print(second_element)\n"
      ],
      "metadata": {
        "colab": {
          "base_uri": "https://localhost:8080/"
        },
        "id": "jtnyl6CmYbS3",
        "outputId": "c0715960-7721-47a2-95ef-f2d6dd982093"
      },
      "execution_count": null,
      "outputs": [
        {
          "output_type": "stream",
          "name": "stdout",
          "text": [
            "b\n"
          ]
        }
      ]
    },
    {
      "cell_type": "code",
      "source": [
        "#10. Write a code to reverse the list [10, 20, 30, 40, 50].\n",
        "# Creating the list\n",
        "numbers = [10, 20, 30, 40, 50]\n",
        "\n",
        "# Reversing the list\n",
        "numbers.reverse()\n",
        "\n",
        "# Printing the reversed list\n",
        "print(numbers)\n"
      ],
      "metadata": {
        "colab": {
          "base_uri": "https://localhost:8080/"
        },
        "id": "8GSk4MrwYmfw",
        "outputId": "be600f97-defc-4d77-a14b-5aac6a38be5d"
      },
      "execution_count": null,
      "outputs": [
        {
          "output_type": "stream",
          "name": "stdout",
          "text": [
            "[50, 40, 30, 20, 10]\n"
          ]
        }
      ]
    },
    {
      "cell_type": "code",
      "source": [
        "'''11. Write a code to create a tuple with the elements 100, 200, 300 and\n",
        "print it.'''\n",
        "\n",
        "# Creating a tuple\n",
        "my_tuple = (100, 200, 300)\n",
        "\n",
        "# Printing the tuple\n",
        "print(my_tuple)\n"
      ],
      "metadata": {
        "colab": {
          "base_uri": "https://localhost:8080/"
        },
        "id": "cIokANvqYyB7",
        "outputId": "a9b52934-4ac8-4064-ca74-34f66c0aaf5e"
      },
      "execution_count": null,
      "outputs": [
        {
          "output_type": "stream",
          "name": "stdout",
          "text": [
            "(100, 200, 300)\n"
          ]
        }
      ]
    },
    {
      "cell_type": "code",
      "source": [
        "'''12. Write a code to access the second-to-last element of the tuple\n",
        "  ('red', 'green', 'blue', 'yellow').'''\n",
        "  # Creating the tuple\n",
        "colors = ('red', 'green', 'blue', 'yellow')\n",
        "\n",
        "# Accessing the second-to-last element using negative indexing\n",
        "second_last = colors[-2]\n",
        "\n",
        "# Printing the result\n",
        "print(second_last)\n"
      ],
      "metadata": {
        "colab": {
          "base_uri": "https://localhost:8080/"
        },
        "id": "6IMgxVqtZK5w",
        "outputId": "78cc31a0-cc4d-4e21-f379-51f1b0065542"
      },
      "execution_count": null,
      "outputs": [
        {
          "output_type": "stream",
          "name": "stdout",
          "text": [
            "blue\n"
          ]
        }
      ]
    },
    {
      "cell_type": "code",
      "source": [
        "#13.Write a code to find the minimum number in the tuple (10, 20, 5, 15).\n",
        "# Creating the tuple\n",
        "numbers = (10, 20, 5, 15)\n",
        "\n",
        "# Finding the minimum number\n",
        "min_number = min(numbers)\n",
        "\n",
        "# Printing the result\n",
        "print(min_number)\n"
      ],
      "metadata": {
        "id": "Gg09n_rBZaXt",
        "colab": {
          "base_uri": "https://localhost:8080/"
        },
        "outputId": "34a98dee-ef8d-4222-8db2-6a97edab66b4"
      },
      "execution_count": 1,
      "outputs": [
        {
          "output_type": "stream",
          "name": "stdout",
          "text": [
            "5\n"
          ]
        }
      ]
    },
    {
      "cell_type": "code",
      "source": [
        "'''14. Write a code to find the index of the element \"cat\" in the tuple\n",
        " ('dog', 'cat', 'rabbit').'''\n",
        " # Creating the tuple\n",
        "animals = ('dog', 'cat', 'rabbit')\n",
        "\n",
        "# Finding the index of \"cat\"\n",
        "index_of_cat = animals.index(\"cat\")\n",
        "\n",
        "# Printing the result\n",
        "print(index_of_cat)\n"
      ],
      "metadata": {
        "colab": {
          "base_uri": "https://localhost:8080/"
        },
        "id": "T7U6clk9lDTD",
        "outputId": "2002d029-5805-4131-d21f-90dd07643a13"
      },
      "execution_count": 2,
      "outputs": [
        {
          "output_type": "stream",
          "name": "stdout",
          "text": [
            "1\n"
          ]
        }
      ]
    },
    {
      "cell_type": "code",
      "source": [
        "'''15. Write a code to create a tuple containing three different fruits and\n",
        "check if \"kiwi\" is in it.'''\n",
        "# Creating the tuple\n",
        "fruits = (\"apple\", \"banana\", \"mango\")\n",
        "\n",
        "# Checking if \"kiwi\" is in the tuple\n",
        "if \"kiwi\" in fruits:\n",
        "    print(\"Kiwi is in the tuple.\")\n",
        "else:\n",
        "    print(\"Kiwi is not in the tuple.\")\n"
      ],
      "metadata": {
        "colab": {
          "base_uri": "https://localhost:8080/"
        },
        "id": "sWHFCUXIlXEp",
        "outputId": "b7228599-f412-4c8f-8b24-6725bb25c8e2"
      },
      "execution_count": 3,
      "outputs": [
        {
          "output_type": "stream",
          "name": "stdout",
          "text": [
            "Kiwi is not in the tuple.\n"
          ]
        }
      ]
    },
    {
      "cell_type": "code",
      "source": [
        "#16.Write a code to create a set with the elements 'a', 'b', 'c' and print it.\n",
        "# Creating a set\n",
        "my_set = {'a', 'b', 'c'}\n",
        "\n",
        "# Printing the set\n",
        "print(my_set)\n"
      ],
      "metadata": {
        "colab": {
          "base_uri": "https://localhost:8080/"
        },
        "id": "ACWMgTeZlo_x",
        "outputId": "8796b276-76fc-4b40-f805-7b39ff004eb9"
      },
      "execution_count": 4,
      "outputs": [
        {
          "output_type": "stream",
          "name": "stdout",
          "text": [
            "{'c', 'a', 'b'}\n"
          ]
        }
      ]
    },
    {
      "cell_type": "code",
      "source": [
        "#17. Write a code to clear all elements from the set {1, 2, 3, 4, 5}.\n",
        "# Creating the set\n",
        "numbers = {1, 2, 3, 4, 5}\n",
        "\n",
        "# Clearing all elements\n",
        "numbers.clear()\n",
        "\n",
        "# Printing the set after clearing\n",
        "print(numbers)\n"
      ],
      "metadata": {
        "colab": {
          "base_uri": "https://localhost:8080/"
        },
        "id": "tFveCbRul16A",
        "outputId": "2992676e-d0e3-4352-ad8e-287543d23ff8"
      },
      "execution_count": 5,
      "outputs": [
        {
          "output_type": "stream",
          "name": "stdout",
          "text": [
            "set()\n"
          ]
        }
      ]
    },
    {
      "cell_type": "code",
      "source": [
        "#18.Write a code to remove the element 4 from the set {1, 2, 3, 4}.\n",
        "# Creating the set\n",
        "numbers = {1, 2, 3, 4}\n",
        "\n",
        "# Removing element 4\n",
        "numbers.remove(4)\n",
        "\n",
        "# Printing the updated set\n",
        "print(numbers)\n"
      ],
      "metadata": {
        "colab": {
          "base_uri": "https://localhost:8080/"
        },
        "id": "48jcb78ZmAqT",
        "outputId": "c8975772-16fc-42ca-a010-e503daed814a"
      },
      "execution_count": 6,
      "outputs": [
        {
          "output_type": "stream",
          "name": "stdout",
          "text": [
            "{1, 2, 3}\n"
          ]
        }
      ]
    },
    {
      "cell_type": "code",
      "source": [
        "#19. Write a code to find the union of two sets {1, 2, 3} and {3, 4, 5}.\n",
        "# Creating two sets\n",
        "set1 = {1, 2, 3}\n",
        "set2 = {3, 4, 5}\n",
        "\n",
        "# Finding the union\n",
        "union_set = set1.union(set2)\n",
        "\n",
        "# Printing the result\n",
        "print(union_set)\n"
      ],
      "metadata": {
        "colab": {
          "base_uri": "https://localhost:8080/"
        },
        "id": "wxSjajqGmJ8W",
        "outputId": "7e173bc9-4dc1-4fce-d990-3133628412c2"
      },
      "execution_count": 7,
      "outputs": [
        {
          "output_type": "stream",
          "name": "stdout",
          "text": [
            "{1, 2, 3, 4, 5}\n"
          ]
        }
      ]
    },
    {
      "cell_type": "code",
      "source": [
        "#20.Write a code to find the intersection of two sets {1, 2, 3} and {2, 3, 4}.\n",
        "# Creating two sets\n",
        "set1 = {1, 2, 3}\n",
        "set2 = {2, 3, 4}\n",
        "\n",
        "# Finding the intersection\n",
        "intersection_set = set1.intersection(set2)\n",
        "\n",
        "# Printing the result\n",
        "print(intersection_set)\n"
      ],
      "metadata": {
        "colab": {
          "base_uri": "https://localhost:8080/"
        },
        "id": "_ube3qaqmXjK",
        "outputId": "7f08fea7-cbae-4d3c-a822-26e4f1803998"
      },
      "execution_count": 8,
      "outputs": [
        {
          "output_type": "stream",
          "name": "stdout",
          "text": [
            "{2, 3}\n"
          ]
        }
      ]
    },
    {
      "cell_type": "code",
      "source": [
        "'''21.Write a code to create a dictionary with the keys \"name\", \"age\", and\n",
        "\"city\", and print it.'''\n",
        "# Creating the dictionary\n",
        "person = {\n",
        "    \"name\": \"Taru\",\n",
        "    \"age\": 26,\n",
        "    \"city\": \"Muzaffarnagar\"\n",
        "}\n",
        "\n",
        "# Printing the dictionary\n",
        "print(person)\n"
      ],
      "metadata": {
        "colab": {
          "base_uri": "https://localhost:8080/"
        },
        "id": "IzyIC2hOmhdm",
        "outputId": "439611ce-fa78-4adf-f545-c5b7c7c9d249"
      },
      "execution_count": 9,
      "outputs": [
        {
          "output_type": "stream",
          "name": "stdout",
          "text": [
            "{'name': 'Taru', 'age': 26, 'city': 'Muzaffarnagar'}\n"
          ]
        }
      ]
    },
    {
      "cell_type": "code",
      "source": [
        "'''22. Write a code to add a new key-value pair \"country\": \"USA\" to the\n",
        "dictionary {'name': 'John', 'age': 25}.'''\n",
        "# Original dictionary\n",
        "person = {'name': 'John', 'age': 25}\n",
        "\n",
        "# Adding a new key-value pair\n",
        "person['country'] = 'USA'\n",
        "\n",
        "# Printing the updated dictionary\n",
        "print(person)\n"
      ],
      "metadata": {
        "colab": {
          "base_uri": "https://localhost:8080/"
        },
        "id": "zsyu9lEvmvPP",
        "outputId": "dfc390fa-4458-4ef1-d9a8-be8a94e352a3"
      },
      "execution_count": 10,
      "outputs": [
        {
          "output_type": "stream",
          "name": "stdout",
          "text": [
            "{'name': 'John', 'age': 25, 'country': 'USA'}\n"
          ]
        }
      ]
    },
    {
      "cell_type": "code",
      "source": [
        "'''23.Write a code to access the value associated with the key \"name\" in the\n",
        "dictionary {'name': 'Alice', 'age': 30}'''\n",
        "# Creating the dictionary\n",
        "person = {'name': 'Alice', 'age': 30}\n",
        "\n",
        "# Accessing the value of the key \"name\"\n",
        "print(person['name'])\n"
      ],
      "metadata": {
        "colab": {
          "base_uri": "https://localhost:8080/"
        },
        "id": "rwJTNYNIyDej",
        "outputId": "50bf78f6-16cf-4fe1-a712-20752dfe5b3b"
      },
      "execution_count": 11,
      "outputs": [
        {
          "output_type": "stream",
          "name": "stdout",
          "text": [
            "Alice\n"
          ]
        }
      ]
    },
    {
      "cell_type": "code",
      "source": [
        "'''24. Write a code to remove the key \"age\" from the dictionary\n",
        "{'name': 'Bob', 'age': 22, 'city': 'New York'}.'''\n",
        "# Original dictionary\n",
        "person = {'name': 'Bob', 'age': 22, 'city': 'New York'}\n",
        "\n",
        "# Removing the key \"age\"\n",
        "del person['age']\n",
        "\n",
        "# Printing the updated dictionary\n",
        "print(person)\n"
      ],
      "metadata": {
        "colab": {
          "base_uri": "https://localhost:8080/"
        },
        "id": "b78_WeBOyTp5",
        "outputId": "db3dcc9b-5ecc-4db7-dda8-7ffa5541c750"
      },
      "execution_count": 12,
      "outputs": [
        {
          "output_type": "stream",
          "name": "stdout",
          "text": [
            "{'name': 'Bob', 'city': 'New York'}\n"
          ]
        }
      ]
    },
    {
      "cell_type": "code",
      "source": [
        " '''25. Write a code to check if the key \"city\" exists in the dictionary\n",
        "  {'name': 'Alice', 'city': 'Paris'}.'''\n",
        "  # Dictionary\n",
        "person = {'name': 'Alice', 'city': 'Paris'}\n",
        "\n",
        "# Checking if \"city\" exists\n",
        "if 'city' in person:\n",
        "    print(\"Key 'city' exists in the dictionary.\")\n",
        "else:\n",
        "    print(\"Key 'city' does not exist.\")\n"
      ],
      "metadata": {
        "colab": {
          "base_uri": "https://localhost:8080/"
        },
        "id": "dz9EOYuYykLk",
        "outputId": "162530ca-359f-42dd-d22d-5dd0965178ba"
      },
      "execution_count": 13,
      "outputs": [
        {
          "output_type": "stream",
          "name": "stdout",
          "text": [
            "Key 'city' exists in the dictionary.\n"
          ]
        }
      ]
    },
    {
      "cell_type": "code",
      "source": [
        "'''26. Write a code to create a list, a tuple, and a dictionary, and\n",
        "print them all.'''\n",
        "# Creating a list\n",
        "my_list = [1, 2, 3, 4, 5]\n",
        "\n",
        "# Creating a tuple\n",
        "my_tuple = ('apple', 'banana', 'cherry')\n",
        "\n",
        "# Creating a dictionary\n",
        "my_dict = {'name': 'Alice', 'age': 25, 'city': 'Paris'}\n",
        "\n",
        "# Printing them\n",
        "print(\"List:\", my_list)\n",
        "print(\"Tuple:\", my_tuple)\n",
        "print(\"Dictionary:\", my_dict)\n"
      ],
      "metadata": {
        "colab": {
          "base_uri": "https://localhost:8080/"
        },
        "id": "p9XKe0rHyxDH",
        "outputId": "e3eb6ee8-9d2c-4a4b-e567-83d762aa2df9"
      },
      "execution_count": 14,
      "outputs": [
        {
          "output_type": "stream",
          "name": "stdout",
          "text": [
            "List: [1, 2, 3, 4, 5]\n",
            "Tuple: ('apple', 'banana', 'cherry')\n",
            "Dictionary: {'name': 'Alice', 'age': 25, 'city': 'Paris'}\n"
          ]
        }
      ]
    },
    {
      "cell_type": "code",
      "source": [
        "'''27. Write a code to create a list of 5 random numbers between 1 and 100,\n",
        "sort it in ascending order, and print the result.(replaced).'''\n",
        "import random\n",
        "\n",
        "# Create a list of 5 random numbers between 1 and 100\n",
        "numbers = [random.randint(1, 100) for _ in range(5)]\n",
        "\n",
        "# Sort the list in ascending order\n",
        "numbers.sort()\n",
        "\n",
        "# Print the result\n",
        "print(\"Sorted list:\", numbers)\n"
      ],
      "metadata": {
        "colab": {
          "base_uri": "https://localhost:8080/"
        },
        "id": "On7e7HBxzMdc",
        "outputId": "c4ab8dc3-4f5e-47b5-9325-2a43b996099c"
      },
      "execution_count": 15,
      "outputs": [
        {
          "output_type": "stream",
          "name": "stdout",
          "text": [
            "Sorted list: [9, 27, 36, 80, 85]\n"
          ]
        }
      ]
    },
    {
      "cell_type": "code",
      "source": [
        "'''28. Write a code to create a list with strings and print the element at\n",
        " the third index.'''\n",
        " # Creating a list with strings\n",
        "fruits = [\"apple\", \"banana\", \"cherry\", \"date\", \"elderberry\"]\n",
        "\n",
        "# Printing the element at the third index (indexing starts from 0)\n",
        "print(fruits[3])\n"
      ],
      "metadata": {
        "colab": {
          "base_uri": "https://localhost:8080/"
        },
        "id": "Mfb6UpdizYsh",
        "outputId": "3cbf2dba-40f3-4976-be25-b2d231d9c8e1"
      },
      "execution_count": 16,
      "outputs": [
        {
          "output_type": "stream",
          "name": "stdout",
          "text": [
            "date\n"
          ]
        }
      ]
    },
    {
      "cell_type": "code",
      "source": [
        "#29.Write a code to combine two dictionaries into one and print the result.\n",
        "# Creating two dictionaries\n",
        "dict1 = {'a': 1, 'b': 2}\n",
        "dict2 = {'c': 3, 'd': 4}\n",
        "\n",
        "# Combining dictionaries using update()\n",
        "dict1.update(dict2)\n",
        "\n",
        "# Printing the result\n",
        "print(dict1)\n"
      ],
      "metadata": {
        "colab": {
          "base_uri": "https://localhost:8080/"
        },
        "id": "gzDKeutfznsx",
        "outputId": "66101c1c-6078-41d2-fd08-a06fbd33ca15"
      },
      "execution_count": 17,
      "outputs": [
        {
          "output_type": "stream",
          "name": "stdout",
          "text": [
            "{'a': 1, 'b': 2, 'c': 3, 'd': 4}\n"
          ]
        }
      ]
    },
    {
      "cell_type": "code",
      "source": [
        "#30.Write a code to convert a list of strings into a set\n",
        "# Creating a list of strings\n",
        "my_list = [\"apple\", \"banana\", \"cherry\", \"apple\"]\n",
        "\n",
        "# Converting list to set\n",
        "my_set = set(my_list)\n",
        "\n",
        "# Printing the set\n",
        "print(my_set)\n"
      ],
      "metadata": {
        "colab": {
          "base_uri": "https://localhost:8080/"
        },
        "id": "P-V4-AsbzyLc",
        "outputId": "1d3eb2b8-f294-44f5-8f51-756f38fd13d7"
      },
      "execution_count": 18,
      "outputs": [
        {
          "output_type": "stream",
          "name": "stdout",
          "text": [
            "{'cherry', 'banana', 'apple'}\n"
          ]
        }
      ]
    }
  ]
}